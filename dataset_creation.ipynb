{
 "cells": [
  {
   "cell_type": "code",
   "execution_count": 1,
   "id": "f77cbacd",
   "metadata": {},
   "outputs": [],
   "source": [
    "from lxml import etree\n",
    "from datasets import Dataset\n",
    "\n",
    "def parse_liveqa_xml(path):\n",
    "    \"\"\"\n",
    "    Parse a LiveQA Medical TREC‑2017 XML file and return a list of dicts:\n",
    "      - questionid : string\n",
    "      - fRef       : string\n",
    "      - subject    : string\n",
    "      - message    : string\n",
    "      - subquestions: list of {\n",
    "            subqid : string,\n",
    "            focus  : string,\n",
    "            type   : string,\n",
    "            answers: list of strings\n",
    "        }\n",
    "    \"\"\"\n",
    "    tree = etree.parse(path)\n",
    "    root = tree.getroot()\n",
    "\n",
    "    records = []\n",
    "    for q in root.findall(\"NLM-QUESTION\"):\n",
    "        record = {\n",
    "            # coerce attributes to str (never None)\n",
    "            \"questionid\": str(q.get(\"questionid\", \"\")),\n",
    "            \"fRef\":       str(q.get(\"fRef\", \"\")),\n",
    "            \"subject\":    (q.findtext(\"SUBJECT\") or \"\").strip(),\n",
    "            \"message\":    (q.findtext(\"MESSAGE\") or \"\").strip(),\n",
    "            \"subquestions\": []\n",
    "        }\n",
    "\n",
    "        for sq in q.findall(\"SUB-QUESTIONS/SUB-QUESTION\"):\n",
    "            sq_data = {\n",
    "                \"subqid\": str(sq.get(\"subqid\", \"\")),           # force string\n",
    "                \"focus\":  (sq.findtext(\"ANNOTATIONS/FOCUS\") or \"\").strip(),\n",
    "                \"type\":   (sq.findtext(\"ANNOTATIONS/TYPE\") or \"\").strip(),\n",
    "                \"answers\": []\n",
    "            }\n",
    "            for ans in sq.findall(\"ANSWERS/ANSWER\"):\n",
    "                text = ans.text or \"\"\n",
    "                sq_data[\"answers\"].append(text.strip())\n",
    "            record[\"subquestions\"].append(sq_data)\n",
    "\n",
    "        records.append(record)\n",
    "    return records\n"
   ]
  },
  {
   "cell_type": "code",
   "execution_count": 2,
   "id": "62c21bcf",
   "metadata": {},
   "outputs": [
    {
     "name": "stdout",
     "output_type": "stream",
     "text": [
      "Dataset({\n",
      "    features: ['questionid', 'fRef', 'subject', 'message', 'subquestions'],\n",
      "    num_rows: 200\n",
      "})\n",
      "{'questionid': 'Q1', 'fRef': '11373', 'subject': '', 'message': 'Literature on Cardiac amyloidosis.  Please let me know where I can get literature on Cardiac amyloidosis.  My uncle died yesterday from this disorder.  Since this is such a rare disorder, and to honor his memory, I would like to distribute literature at his funeral service.  I am a retired NIH employee, so I am familiar with the campus in case you have literature at NIH that I can come and pick up.  Thank you', 'subquestions': [{'answers': ['Cardiac amyloidosis is a disorder caused by deposits of an abnormal protein (amyloid) in the heart tissue. These deposits make it hard for the heart to work properly.', 'The term \"amyloidosis\" refers not to a single disease but to a collection of diseases in which a protein-based infiltrate deposits in tissues as beta-pleated sheets. The subtype of the disease is determined by which protein is depositing; although dozens of subtypes have been described, most are incredibly rare or of trivial importance. This analysis will focus on the main systemic forms of amyloidosis, both of which frequently involve the heart.'], 'focus': 'cardiac amyloidosis', 'subqid': 'Q1-S1', 'type': 'information'}]}\n",
      "[{'answers': ['Nephrotic syndrome is a collection of symptoms that indicate kidney damage. Nephrotic syndrome includes the following:        proteinuria—large amounts of protein in the urine      hyperlipidemia—higher than normal fat and cholesterol levels in the blood      edema, or swelling, usually in the legs, feet, or ankles and less often in the hands or face      hypoalbuminia—low levels of albumin in the blood    Albumin is a protein that acts like a sponge, drawing extra fluid from the body into the bloodstream where it remains until removed by the kidneys. When albumin leaks into the urine, the blood loses its capacity to absorb extra fluid from the body, causing edema.    Nephrotic syndrome results from a problem with the kidneys’ filters, called glomeruli. Glomeruli are tiny blood vessels in the kidneys that remove wastes and excess fluids from the blood and send them to the bladder as urine.    As blood passes through healthy kidneys, the glomeruli filter out the waste products and allow the blood to retain cells and proteins the body needs. However, proteins from the blood, such as albumin, can leak into the urine when the glomeruli are damaged. In nephrotic syndrome, damaged glomeruli allow 3 grams or more of protein to leak into the urine when measured over a 24-hour period, which is more than 20 times the amount that healthy glomeruli allow.'], 'focus': 'Nephrotic Syndrome', 'subqid': 'Q200-S1', 'type': 'information'}, {'answers': ['Nephrotic syndrome can be caused by diseases that affect only the kidneys, such as focal segmental glomerulosclerosis (FSGS) or membranous nephropathy. Diseases that affect only the kidneys are called primary causes of nephrotic syndrome. The glomeruli are usually the targets of these diseases for reasons that are not fully understood. In FSGS—the most common primary cause of nephrotic syndrome—scar tissue forms in parts of the glomeruli. In membranous nephropathy, immune molecules form harmful deposits on the glomeruli. Nephrotic syndrome can also be caused by systemic diseases, which are diseases that affect many parts of the body, such as diabetes or lupus. Systemic diseases that affect the kidneys are called secondary causes of nephrotic syndrome. More than 50 percent of nephrotic syndrome cases in adults have secondary causes, with diabetes being the most common.'], 'focus': 'Nephrotic Syndrome', 'subqid': 'Q200-S2', 'type': 'cause'}, {'answers': ['Treating nephrotic syndrome includes addressing the underlying cause as well as taking steps to reduce high blood pressure, edema, high cholesterol, and the risks of infection. Treatment usually includes medications and changes in diet.    Medications that lower blood pressure can also significantly slow the progression of kidney disease causing nephrotic syndrome. Two types of blood pressure lowering medications, angiotensin-converting enzyme (ACE) inhibitors and angiotensin receptor blockers (ARBs), have proven effective in slowing the progression of kidney disease by reducing the pressure inside the glomeruli and thereby reducing proteinuria. Many people require two or more medications to control their blood pressure. In addition to an ACE inhibitor or an ARB, a diuretic—a medication that aids the kidneys in removing fluid from the blood—can also be useful in helping to reduce blood pressure as well as edema. Beta blockers, calcium channel blockers, and other blood pressure medications may also be needed.    Statin medications may be given to lower cholesterol.    People with nephrotic syndrome should receive the pneumococcal vaccine, which helps protect against a bacterium that commonly causes infection, and yearly flu shots.    Blood thinning medications are usually only given to people with nephrotic syndrome who develop a blood clot; these medications are not used as a preventive measure.    Nephrotic syndrome may go away once the underlying cause has been treated. More information about treating the underlying causes of nephrotic syndrome is provided in the NIDDK health topic, Glomerular Diseases.'], 'focus': 'Nephrotic Syndrome', 'subqid': 'Q200-S3', 'type': 'treatment'}]\n",
      "Dataset({\n",
      "    features: ['questionid', 'fRef', 'subject', 'message', 'subquestions'],\n",
      "    num_rows: 246\n",
      "})\n",
      "{'questionid': '', 'fRef': '', 'subject': 'Lyme Disease', 'message': '12 years ago I was bitten by tick while deer hunting. The bite area contained the ring as described in Lyme Disease symptoms.  I was treated with antibiotics;  however, ever since that time I have many of the symptoms cited for Lyme.  Also, usually prior to, and during these symptoms I have a reddish-pink welt appear at the site of the bite on my groin.  Can you offer any enlightment on my condition?', 'subquestions': [{'answers': ['Lyme disease tests are used to determine if a person with characteristic symptoms has been infected by Borrelia burgdorferi. If the doctor suspects a recent infection, then she may order both an IgM and IgG antibody blood test. If they are negative but symptoms persist, then the tests may be ordered again a few weeks later…Lyme disease can sometimes be challenging to diagnose'], 'focus': 'Lyme Disease', 'subqid': '', 'type': 'Information'}]}\n",
      "[{'answers': [\"How are balance disorders treated?  The first thing a doctor will do if you have a balance problem is determine if another health condition or a medication is to blame. If so, your doctor will treat the condition, suggest a different medication, or refer you to a specialist if the condition is outside his or her expertise.  If you have BPPV, your doctor might recommend a series of simple movements, such as the Epley maneuver, which can help dislodge the otoconia from the semicircular canal. In many cases, one session works; other people need the procedure several times to relieve their dizziness. Figure 1: The ear and the vestibular system Dislodging otoconia using the Epley maneuver Credit: NIDCD  If you are diagnosed with Ménière's disease, your doctor may recommend that you make some changes to your diet and, if you are a smoker, that you stop smoking. Anti-vertigo or anti-nausea medications may relieve your symptoms, but they can also make you drowsy. Other medications, such as gentamicin (an antibiotic) or corticosteroids may be used. Although gentamicin may reduce dizziness better than corticosteroids, it occasionally causes permanent hearing loss. In some severe cases of Ménière's disease, surgery on the vestibular organs may be needed.  Some people with a balance disorder may not be able to fully relieve their dizziness and will need to find ways to cope with it. A vestibular rehabilitation therapist can help you develop an individualized treatment plan.  Talk to your doctor about whether it’s safe to drive, as well as ways to lower your risk of falling and getting hurt during daily activities, such as when you walk up or down stairs, use the bathroom, or exercise. To reduce your risk of injury from dizziness, avoid walking in the dark. You should also wear low-heeled shoes or walking shoes outdoors. If necessary, use a cane or walker and modify conditions at your home and workplace, such as by adding handrails.\"], 'focus': 'balance disorder', 'subqid': '', 'type': 'Treatment'}]\n"
     ]
    }
   ],
   "source": [
    "train1_list = parse_liveqa_xml(\"LiveQA_MedicalTask_TREC2017/TrainDataset/TREC-2017-LiveQA-Medical-Train-1.xml\")\n",
    "train2_list = parse_liveqa_xml(\"LiveQA_MedicalTask_TREC2017/TrainDataset/TREC-2017-LiveQA-Medical-Train-2.xml\")\n",
    "\n",
    "train1 = Dataset.from_list(train1_list)\n",
    "train2 = Dataset.from_list(train2_list)\n",
    "\n",
    "print(train1)           \n",
    "print(train1[0])       \n",
    "print(train1[-1][\"subquestions\"]) \n",
    "\n",
    "print(train2)           \n",
    "print(train2[0])        \n",
    "print(train2[-1][\"subquestions\"])  "
   ]
  },
  {
   "cell_type": "code",
   "execution_count": 3,
   "id": "5648743a",
   "metadata": {},
   "outputs": [
    {
     "name": "stdout",
     "output_type": "stream",
     "text": [
      "446\n"
     ]
    }
   ],
   "source": [
    "from datasets import concatenate_datasets, load_dataset\n",
    "trec_dataset = concatenate_datasets([train1, train2]).shuffle(seed=42)\n",
    "print(len(trec_dataset))"
   ]
  },
  {
   "cell_type": "code",
   "execution_count": 4,
   "id": "20538171",
   "metadata": {},
   "outputs": [],
   "source": [
    "rows = []\n",
    "for rec in trec_dataset:\n",
    "    msg = rec.get('message', '').strip()\n",
    "    for sub in rec.get('subquestions', []):\n",
    "        for ans in sub.get('answers', []):\n",
    "            rows.append({\n",
    "                'message': msg,\n",
    "                'answer': ans.strip()\n",
    "            })"
   ]
  },
  {
   "cell_type": "code",
   "execution_count": 5,
   "id": "4eddaaa1",
   "metadata": {},
   "outputs": [
    {
     "data": {
      "text/html": [
       "<div>\n",
       "<style scoped>\n",
       "    .dataframe tbody tr th:only-of-type {\n",
       "        vertical-align: middle;\n",
       "    }\n",
       "\n",
       "    .dataframe tbody tr th {\n",
       "        vertical-align: top;\n",
       "    }\n",
       "\n",
       "    .dataframe thead th {\n",
       "        text-align: right;\n",
       "    }\n",
       "</style>\n",
       "<table border=\"1\" class=\"dataframe\">\n",
       "  <thead>\n",
       "    <tr style=\"text-align: right;\">\n",
       "      <th></th>\n",
       "      <th>input</th>\n",
       "      <th>output</th>\n",
       "      <th>instruction</th>\n",
       "    </tr>\n",
       "  </thead>\n",
       "  <tbody>\n",
       "    <tr>\n",
       "      <th>0</th>\n",
       "      <td>I have had Tourette syndrome since age seven. ...</td>\n",
       "      <td>What disorders are associated with TS?  Many i...</td>\n",
       "      <td>Answer the medical question.</td>\n",
       "    </tr>\n",
       "    <tr>\n",
       "      <th>1</th>\n",
       "      <td>I have undergone Total Hip Replacement of both...</td>\n",
       "      <td>When Is Revision Surgery Necessary?  Hip repla...</td>\n",
       "      <td>Answer the medical question.</td>\n",
       "    </tr>\n",
       "    <tr>\n",
       "      <th>2</th>\n",
       "      <td>atypical pnuemonia.  what is the possibility o...</td>\n",
       "      <td>Most patients with pneumonia due to mycoplasma...</td>\n",
       "      <td>Answer the medical question.</td>\n",
       "    </tr>\n",
       "    <tr>\n",
       "      <th>3</th>\n",
       "      <td>Dear Sir,  My mother is 80 years old. Her eye ...</td>\n",
       "      <td>If you have low vision, eyeglasses, contact le...</td>\n",
       "      <td>Answer the medical question.</td>\n",
       "    </tr>\n",
       "    <tr>\n",
       "      <th>4</th>\n",
       "      <td>I am a 75 year old man. I have 2 inguinal hern...</td>\n",
       "      <td>An inguinal hernia happens when contents of th...</td>\n",
       "      <td>Answer the medical question.</td>\n",
       "    </tr>\n",
       "  </tbody>\n",
       "</table>\n",
       "</div>"
      ],
      "text/plain": [
       "                                               input  \\\n",
       "0  I have had Tourette syndrome since age seven. ...   \n",
       "1  I have undergone Total Hip Replacement of both...   \n",
       "2  atypical pnuemonia.  what is the possibility o...   \n",
       "3  Dear Sir,  My mother is 80 years old. Her eye ...   \n",
       "4  I am a 75 year old man. I have 2 inguinal hern...   \n",
       "\n",
       "                                              output  \\\n",
       "0  What disorders are associated with TS?  Many i...   \n",
       "1  When Is Revision Surgery Necessary?  Hip repla...   \n",
       "2  Most patients with pneumonia due to mycoplasma...   \n",
       "3  If you have low vision, eyeglasses, contact le...   \n",
       "4  An inguinal hernia happens when contents of th...   \n",
       "\n",
       "                    instruction  \n",
       "0  Answer the medical question.  \n",
       "1  Answer the medical question.  \n",
       "2  Answer the medical question.  \n",
       "3  Answer the medical question.  \n",
       "4  Answer the medical question.  "
      ]
     },
     "execution_count": 5,
     "metadata": {},
     "output_type": "execute_result"
    }
   ],
   "source": [
    "import pandas as pd\n",
    "df = pd.DataFrame(rows, columns=['message', 'answer'])\n",
    "df[\"instruction\"] = \"Answer the medical question.\"\n",
    "df.columns = [\"input\", \"output\",\"instruction\"]\n",
    "df.head()"
   ]
  },
  {
   "cell_type": "code",
   "execution_count": 6,
   "id": "2ab6a073",
   "metadata": {},
   "outputs": [
    {
     "name": "stdout",
     "output_type": "stream",
     "text": [
      "(634, 3)\n",
      "(634, 3)\n"
     ]
    }
   ],
   "source": [
    "print(df.shape)\n",
    "df = df.dropna()\n",
    "print(df.shape)"
   ]
  },
  {
   "cell_type": "code",
   "execution_count": 7,
   "id": "08de2067",
   "metadata": {},
   "outputs": [
    {
     "name": "stdout",
     "output_type": "stream",
     "text": [
      "DatasetDict({\n",
      "    train: Dataset({\n",
      "        features: ['Question', 'Focus (Drug)', 'Question Type', 'Answer', 'Section Title', 'URL'],\n",
      "        num_rows: 690\n",
      "    })\n",
      "})\n",
      "DatasetDict({\n",
      "    train: Dataset({\n",
      "        features: ['input', 'output', 'instruction'],\n",
      "        num_rows: 33955\n",
      "    })\n",
      "})\n",
      "Dataset({\n",
      "    features: ['qtype', 'Question', 'Answer'],\n",
      "    num_rows: 16407\n",
      "})\n"
     ]
    }
   ],
   "source": [
    "medicationqa = load_dataset(\"truehealth/medicationqa\")\n",
    "medalpca = load_dataset(\"medalpaca/medical_meadow_medical_flashcards\")\n",
    "medquad = load_dataset(\"keivalya/MedQuad-MedicalQnADataset\")['train']\n",
    "print(medicationqa)\n",
    "print(medalpca)\n",
    "print(medquad)"
   ]
  },
  {
   "cell_type": "code",
   "execution_count": 8,
   "id": "5c4fa817",
   "metadata": {},
   "outputs": [
    {
     "name": "stdout",
     "output_type": "stream",
     "text": [
      "(690, 3)\n",
      "(689, 3)\n"
     ]
    },
    {
     "data": {
      "text/html": [
       "<div>\n",
       "<style scoped>\n",
       "    .dataframe tbody tr th:only-of-type {\n",
       "        vertical-align: middle;\n",
       "    }\n",
       "\n",
       "    .dataframe tbody tr th {\n",
       "        vertical-align: top;\n",
       "    }\n",
       "\n",
       "    .dataframe thead th {\n",
       "        text-align: right;\n",
       "    }\n",
       "</style>\n",
       "<table border=\"1\" class=\"dataframe\">\n",
       "  <thead>\n",
       "    <tr style=\"text-align: right;\">\n",
       "      <th></th>\n",
       "      <th>instruction</th>\n",
       "      <th>input</th>\n",
       "      <th>output</th>\n",
       "    </tr>\n",
       "  </thead>\n",
       "  <tbody>\n",
       "    <tr>\n",
       "      <th>0</th>\n",
       "      <td>Answer the medical question.</td>\n",
       "      <td>how does rivatigmine and otc sleep medicine in...</td>\n",
       "      <td>tell your doctor and pharmacist what prescript...</td>\n",
       "    </tr>\n",
       "    <tr>\n",
       "      <th>1</th>\n",
       "      <td>Answer the medical question.</td>\n",
       "      <td>how does valium affect the brain</td>\n",
       "      <td>Diazepam is a benzodiazepine that exerts anxio...</td>\n",
       "    </tr>\n",
       "    <tr>\n",
       "      <th>2</th>\n",
       "      <td>Answer the medical question.</td>\n",
       "      <td>what is morphine</td>\n",
       "      <td>Morphine is a pain medication of the opiate fa...</td>\n",
       "    </tr>\n",
       "    <tr>\n",
       "      <th>3</th>\n",
       "      <td>Answer the medical question.</td>\n",
       "      <td>what are the milligrams for oxycodone e</td>\n",
       "      <td>… 10 mg … 20 mg … 40 mg … 80 mg ...</td>\n",
       "    </tr>\n",
       "    <tr>\n",
       "      <th>4</th>\n",
       "      <td>Answer the medical question.</td>\n",
       "      <td>81% aspirin contain resin and shellac in it. ?</td>\n",
       "      <td>Inactive Ingredients  Ingredient Name</td>\n",
       "    </tr>\n",
       "  </tbody>\n",
       "</table>\n",
       "</div>"
      ],
      "text/plain": [
       "                    instruction  \\\n",
       "0  Answer the medical question.   \n",
       "1  Answer the medical question.   \n",
       "2  Answer the medical question.   \n",
       "3  Answer the medical question.   \n",
       "4  Answer the medical question.   \n",
       "\n",
       "                                               input  \\\n",
       "0  how does rivatigmine and otc sleep medicine in...   \n",
       "1                   how does valium affect the brain   \n",
       "2                                   what is morphine   \n",
       "3            what are the milligrams for oxycodone e   \n",
       "4     81% aspirin contain resin and shellac in it. ?   \n",
       "\n",
       "                                              output  \n",
       "0  tell your doctor and pharmacist what prescript...  \n",
       "1  Diazepam is a benzodiazepine that exerts anxio...  \n",
       "2  Morphine is a pain medication of the opiate fa...  \n",
       "3                … 10 mg … 20 mg … 40 mg … 80 mg ...  \n",
       "4              Inactive Ingredients  Ingredient Name  "
      ]
     },
     "execution_count": 8,
     "metadata": {},
     "output_type": "execute_result"
    }
   ],
   "source": [
    "medqa = medicationqa[\"train\"].to_pandas()\n",
    "medqa[\"instruction\"] = \"Answer the medical question.\"\n",
    "medqa = medqa.rename(columns={\"Question\": \"input\", \"Answer\": \"output\"})\n",
    "df_medqa = medqa[[\"instruction\", \"input\", \"output\"]]\n",
    "print(df_medqa.shape)\n",
    "df_medqa = df_medqa.dropna()\n",
    "print(df_medqa.shape)\n",
    "df_medqa.head()"
   ]
  },
  {
   "cell_type": "code",
   "execution_count": 9,
   "id": "a57c92f4",
   "metadata": {},
   "outputs": [
    {
     "name": "stdout",
     "output_type": "stream",
     "text": [
      "(16407, 3)\n",
      "(16407, 3)\n"
     ]
    },
    {
     "data": {
      "text/html": [
       "<div>\n",
       "<style scoped>\n",
       "    .dataframe tbody tr th:only-of-type {\n",
       "        vertical-align: middle;\n",
       "    }\n",
       "\n",
       "    .dataframe tbody tr th {\n",
       "        vertical-align: top;\n",
       "    }\n",
       "\n",
       "    .dataframe thead th {\n",
       "        text-align: right;\n",
       "    }\n",
       "</style>\n",
       "<table border=\"1\" class=\"dataframe\">\n",
       "  <thead>\n",
       "    <tr style=\"text-align: right;\">\n",
       "      <th></th>\n",
       "      <th>instruction</th>\n",
       "      <th>input</th>\n",
       "      <th>output</th>\n",
       "    </tr>\n",
       "  </thead>\n",
       "  <tbody>\n",
       "    <tr>\n",
       "      <th>0</th>\n",
       "      <td>Answer the medical question.</td>\n",
       "      <td>Who is at risk for Lymphocytic Choriomeningiti...</td>\n",
       "      <td>LCMV infections can occur after exposure to fr...</td>\n",
       "    </tr>\n",
       "    <tr>\n",
       "      <th>1</th>\n",
       "      <td>Answer the medical question.</td>\n",
       "      <td>What are the symptoms of Lymphocytic Choriomen...</td>\n",
       "      <td>LCMV is most commonly recognized as causing ne...</td>\n",
       "    </tr>\n",
       "    <tr>\n",
       "      <th>2</th>\n",
       "      <td>Answer the medical question.</td>\n",
       "      <td>Who is at risk for Lymphocytic Choriomeningiti...</td>\n",
       "      <td>Individuals of all ages who come into contact ...</td>\n",
       "    </tr>\n",
       "    <tr>\n",
       "      <th>3</th>\n",
       "      <td>Answer the medical question.</td>\n",
       "      <td>How to diagnose Lymphocytic Choriomeningitis (...</td>\n",
       "      <td>During the first phase of the disease, the mos...</td>\n",
       "    </tr>\n",
       "    <tr>\n",
       "      <th>4</th>\n",
       "      <td>Answer the medical question.</td>\n",
       "      <td>What are the treatments for Lymphocytic Chorio...</td>\n",
       "      <td>Aseptic meningitis, encephalitis, or meningoen...</td>\n",
       "    </tr>\n",
       "  </tbody>\n",
       "</table>\n",
       "</div>"
      ],
      "text/plain": [
       "                    instruction  \\\n",
       "0  Answer the medical question.   \n",
       "1  Answer the medical question.   \n",
       "2  Answer the medical question.   \n",
       "3  Answer the medical question.   \n",
       "4  Answer the medical question.   \n",
       "\n",
       "                                               input  \\\n",
       "0  Who is at risk for Lymphocytic Choriomeningiti...   \n",
       "1  What are the symptoms of Lymphocytic Choriomen...   \n",
       "2  Who is at risk for Lymphocytic Choriomeningiti...   \n",
       "3  How to diagnose Lymphocytic Choriomeningitis (...   \n",
       "4  What are the treatments for Lymphocytic Chorio...   \n",
       "\n",
       "                                              output  \n",
       "0  LCMV infections can occur after exposure to fr...  \n",
       "1  LCMV is most commonly recognized as causing ne...  \n",
       "2  Individuals of all ages who come into contact ...  \n",
       "3  During the first phase of the disease, the mos...  \n",
       "4  Aseptic meningitis, encephalitis, or meningoen...  "
      ]
     },
     "execution_count": 9,
     "metadata": {},
     "output_type": "execute_result"
    }
   ],
   "source": [
    "mq = medquad.to_pandas()\n",
    "mq[\"instruction\"] = \"Answer the medical question.\"\n",
    "mq = mq.rename(columns={\"Question\": \"input\", \"Answer\": \"output\"})\n",
    "df_mq = mq[[\"instruction\", \"input\", \"output\"]]\n",
    "print(df_mq.shape)\n",
    "df_mq = df_mq.dropna()\n",
    "print(df_mq.shape)\n",
    "df_mq.head()"
   ]
  },
  {
   "cell_type": "code",
   "execution_count": 10,
   "id": "58fc6810",
   "metadata": {},
   "outputs": [
    {
     "name": "stdout",
     "output_type": "stream",
     "text": [
      "(33955, 3)\n",
      "(33955, 3)\n"
     ]
    },
    {
     "data": {
      "text/html": [
       "<div>\n",
       "<style scoped>\n",
       "    .dataframe tbody tr th:only-of-type {\n",
       "        vertical-align: middle;\n",
       "    }\n",
       "\n",
       "    .dataframe tbody tr th {\n",
       "        vertical-align: top;\n",
       "    }\n",
       "\n",
       "    .dataframe thead th {\n",
       "        text-align: right;\n",
       "    }\n",
       "</style>\n",
       "<table border=\"1\" class=\"dataframe\">\n",
       "  <thead>\n",
       "    <tr style=\"text-align: right;\">\n",
       "      <th></th>\n",
       "      <th>instruction</th>\n",
       "      <th>input</th>\n",
       "      <th>output</th>\n",
       "    </tr>\n",
       "  </thead>\n",
       "  <tbody>\n",
       "    <tr>\n",
       "      <th>0</th>\n",
       "      <td>Answer the medical question.</td>\n",
       "      <td>What is the relationship between very low Mg2+...</td>\n",
       "      <td>Very low Mg2+ levels correspond to low PTH lev...</td>\n",
       "    </tr>\n",
       "    <tr>\n",
       "      <th>1</th>\n",
       "      <td>Answer the medical question.</td>\n",
       "      <td>What leads to genitourinary syndrome of menopa...</td>\n",
       "      <td>Low estradiol production leads to genitourinar...</td>\n",
       "    </tr>\n",
       "    <tr>\n",
       "      <th>2</th>\n",
       "      <td>Answer the medical question.</td>\n",
       "      <td>What does low REM sleep latency and experienci...</td>\n",
       "      <td>Low REM sleep latency and experiencing halluci...</td>\n",
       "    </tr>\n",
       "    <tr>\n",
       "      <th>3</th>\n",
       "      <td>Answer the medical question.</td>\n",
       "      <td>What are some possible causes of low PTH and h...</td>\n",
       "      <td>PTH-independent hypercalcemia, which can be ca...</td>\n",
       "    </tr>\n",
       "    <tr>\n",
       "      <th>4</th>\n",
       "      <td>Answer the medical question.</td>\n",
       "      <td>How does the level of anti-müllerian hormone r...</td>\n",
       "      <td>The level of anti-müllerian hormone is directl...</td>\n",
       "    </tr>\n",
       "  </tbody>\n",
       "</table>\n",
       "</div>"
      ],
      "text/plain": [
       "                    instruction  \\\n",
       "0  Answer the medical question.   \n",
       "1  Answer the medical question.   \n",
       "2  Answer the medical question.   \n",
       "3  Answer the medical question.   \n",
       "4  Answer the medical question.   \n",
       "\n",
       "                                               input  \\\n",
       "0  What is the relationship between very low Mg2+...   \n",
       "1  What leads to genitourinary syndrome of menopa...   \n",
       "2  What does low REM sleep latency and experienci...   \n",
       "3  What are some possible causes of low PTH and h...   \n",
       "4  How does the level of anti-müllerian hormone r...   \n",
       "\n",
       "                                              output  \n",
       "0  Very low Mg2+ levels correspond to low PTH lev...  \n",
       "1  Low estradiol production leads to genitourinar...  \n",
       "2  Low REM sleep latency and experiencing halluci...  \n",
       "3  PTH-independent hypercalcemia, which can be ca...  \n",
       "4  The level of anti-müllerian hormone is directl...  "
      ]
     },
     "execution_count": 10,
     "metadata": {},
     "output_type": "execute_result"
    }
   ],
   "source": [
    "alp = medalpca[\"train\"].to_pandas()\n",
    "df_alp = alp[[\"instruction\", \"input\", \"output\"]]\n",
    "df_alp[\"instruction\"] = \"Answer the medical question.\"\n",
    "print(df_alp.shape)\n",
    "df_alp = df_alp.dropna()\n",
    "print(df_alp.shape)\n",
    "df_alp.head()"
   ]
  },
  {
   "cell_type": "code",
   "execution_count": 11,
   "id": "8ef7d357",
   "metadata": {},
   "outputs": [
    {
     "data": {
      "text/plain": [
       "dict_keys(['CancerQA.csv', 'Diabetes_and_Digestive_and_Kidney_DiseasesQA.csv', 'Disease_Control_and_PreventionQA.csv', 'Genetic_and_Rare_DiseasesQA.csv', 'growth_hormone_receptorQA.csv', 'Heart_Lung_and_BloodQA.csv', 'MedicalQuestionAnswering.csv', 'Neurological_Disorders_and_StrokeQA.csv', 'OtherQA.csv', 'SeniorHealthQA.csv'])"
      ]
     },
     "execution_count": 11,
     "metadata": {},
     "output_type": "execute_result"
    }
   ],
   "source": [
    "import pandas as pd, pathlib\n",
    "dfs = {p.name: pd.read_csv(p) for p in pathlib.Path(r\"C:\\Users\\vasal\\Study\\TSAI\\SOAI_Capstone_Project\\SFT\\medicalQAdataset\").glob(\"*.csv\")}\n",
    "dfs.keys()"
   ]
  },
  {
   "cell_type": "code",
   "execution_count": 12,
   "id": "9da7bd70",
   "metadata": {},
   "outputs": [
    {
     "name": "stdout",
     "output_type": "stream",
     "text": [
      "CancerQA.csv: (729, 4)\n",
      "Diabetes_and_Digestive_and_Kidney_DiseasesQA.csv: (1192, 4)\n",
      "Disease_Control_and_PreventionQA.csv: (270, 4)\n",
      "Genetic_and_Rare_DiseasesQA.csv: (5388, 4)\n",
      "growth_hormone_receptorQA.csv: (5430, 4)\n",
      "Heart_Lung_and_BloodQA.csv: (559, 4)\n",
      "MedicalQuestionAnswering.csv: (16406, 4)\n",
      "Neurological_Disorders_and_StrokeQA.csv: (1088, 4)\n",
      "OtherQA.csv: (981, 4)\n",
      "SeniorHealthQA.csv: (769, 4)\n",
      "(32812, 4)\n"
     ]
    }
   ],
   "source": [
    "medicalqadataset = []\n",
    "for i in dfs.keys():\n",
    "    print(f\"{i}: {dfs[i].shape}\")\n",
    "    medicalqadataset.append(dfs[i])\n",
    "    \n",
    "medicalqadataset = pd.concat(medicalqadataset, ignore_index=True)\n",
    "print(medicalqadataset.shape) "
   ]
  },
  {
   "cell_type": "code",
   "execution_count": 13,
   "id": "f22b3bd9",
   "metadata": {},
   "outputs": [
    {
     "name": "stdout",
     "output_type": "stream",
     "text": [
      "(32812, 3)\n",
      "(32812, 3)\n"
     ]
    },
    {
     "data": {
      "text/html": [
       "<div>\n",
       "<style scoped>\n",
       "    .dataframe tbody tr th:only-of-type {\n",
       "        vertical-align: middle;\n",
       "    }\n",
       "\n",
       "    .dataframe tbody tr th {\n",
       "        vertical-align: top;\n",
       "    }\n",
       "\n",
       "    .dataframe thead th {\n",
       "        text-align: right;\n",
       "    }\n",
       "</style>\n",
       "<table border=\"1\" class=\"dataframe\">\n",
       "  <thead>\n",
       "    <tr style=\"text-align: right;\">\n",
       "      <th></th>\n",
       "      <th>instruction</th>\n",
       "      <th>input</th>\n",
       "      <th>output</th>\n",
       "    </tr>\n",
       "  </thead>\n",
       "  <tbody>\n",
       "    <tr>\n",
       "      <th>0</th>\n",
       "      <td>Answer the medical question.</td>\n",
       "      <td>What is (are) Non-Small Cell Lung Cancer ?</td>\n",
       "      <td>Key Points\\n                    - Non-small ce...</td>\n",
       "    </tr>\n",
       "    <tr>\n",
       "      <th>1</th>\n",
       "      <td>Answer the medical question.</td>\n",
       "      <td>Who is at risk for Non-Small Cell Lung Cancer? ?</td>\n",
       "      <td>Smoking is the major risk factor for non-small...</td>\n",
       "    </tr>\n",
       "    <tr>\n",
       "      <th>2</th>\n",
       "      <td>Answer the medical question.</td>\n",
       "      <td>What are the symptoms of Non-Small Cell Lung C...</td>\n",
       "      <td>Signs of non-small cell lung cancer include a ...</td>\n",
       "    </tr>\n",
       "    <tr>\n",
       "      <th>3</th>\n",
       "      <td>Answer the medical question.</td>\n",
       "      <td>How to diagnose Non-Small Cell Lung Cancer ?</td>\n",
       "      <td>Tests that examine the lungs are used to detec...</td>\n",
       "    </tr>\n",
       "    <tr>\n",
       "      <th>4</th>\n",
       "      <td>Answer the medical question.</td>\n",
       "      <td>What is the outlook for Non-Small Cell Lung Ca...</td>\n",
       "      <td>Certain factors affect prognosis (chance of re...</td>\n",
       "    </tr>\n",
       "  </tbody>\n",
       "</table>\n",
       "</div>"
      ],
      "text/plain": [
       "                    instruction  \\\n",
       "0  Answer the medical question.   \n",
       "1  Answer the medical question.   \n",
       "2  Answer the medical question.   \n",
       "3  Answer the medical question.   \n",
       "4  Answer the medical question.   \n",
       "\n",
       "                                               input  \\\n",
       "0         What is (are) Non-Small Cell Lung Cancer ?   \n",
       "1   Who is at risk for Non-Small Cell Lung Cancer? ?   \n",
       "2  What are the symptoms of Non-Small Cell Lung C...   \n",
       "3       How to diagnose Non-Small Cell Lung Cancer ?   \n",
       "4  What is the outlook for Non-Small Cell Lung Ca...   \n",
       "\n",
       "                                              output  \n",
       "0  Key Points\\n                    - Non-small ce...  \n",
       "1  Smoking is the major risk factor for non-small...  \n",
       "2  Signs of non-small cell lung cancer include a ...  \n",
       "3  Tests that examine the lungs are used to detec...  \n",
       "4  Certain factors affect prognosis (chance of re...  "
      ]
     },
     "execution_count": 13,
     "metadata": {},
     "output_type": "execute_result"
    }
   ],
   "source": [
    "medicalqadataset[\"instruction\"] = \"Answer the medical question.\"\n",
    "medicalqadataset = medicalqadataset.rename(columns={\"Question\": \"input\", \"Answer\": \"output\"})\n",
    "df_mqadata = medicalqadataset[[\"instruction\", \"input\", \"output\"]]\n",
    "print(df_mqadata.shape)\n",
    "df_mqadata = df_mqadata.dropna()\n",
    "print(df_mqadata.shape)\n",
    "df_mqadata.head()"
   ]
  },
  {
   "cell_type": "code",
   "execution_count": 14,
   "id": "a7acb8be",
   "metadata": {},
   "outputs": [
    {
     "name": "stdout",
     "output_type": "stream",
     "text": [
      "(634, 3) (689, 3) (16407, 3) (33955, 3) (32812, 3)\n"
     ]
    }
   ],
   "source": [
    "print(df.shape, df_medqa.shape, df_mq.shape, df_alp.shape, df_mqadata.shape)"
   ]
  },
  {
   "cell_type": "code",
   "execution_count": 15,
   "id": "a95857a9",
   "metadata": {},
   "outputs": [
    {
     "name": "stdout",
     "output_type": "stream",
     "text": [
      "input          0\n",
      "output         0\n",
      "instruction    0\n",
      "dtype: int64\n",
      "instruction    0\n",
      "input          0\n",
      "output         0\n",
      "dtype: int64\n",
      "instruction    0\n",
      "input          0\n",
      "output         0\n",
      "dtype: int64\n",
      "instruction    0\n",
      "input          0\n",
      "output         0\n",
      "dtype: int64\n",
      "instruction    0\n",
      "input          0\n",
      "output         0\n",
      "dtype: int64\n"
     ]
    }
   ],
   "source": [
    "print(df.isna().sum())\n",
    "print(df_medqa.isna().sum())\n",
    "print(df_mq.isna().sum())\n",
    "print(df_alp.isna().sum())\n",
    "print(df_mqadata.isna().sum())"
   ]
  },
  {
   "cell_type": "code",
   "execution_count": 16,
   "id": "d2c58274",
   "metadata": {},
   "outputs": [
    {
     "data": {
      "text/plain": [
       "(84497, 3)"
      ]
     },
     "execution_count": 16,
     "metadata": {},
     "output_type": "execute_result"
    }
   ],
   "source": [
    "final_df = pd.concat([df, df_medqa, df_mq, df_alp, df_mqadata], ignore_index=True)\n",
    "final_df.shape"
   ]
  },
  {
   "cell_type": "code",
   "execution_count": 17,
   "id": "9e1b616c",
   "metadata": {},
   "outputs": [
    {
     "data": {
      "text/html": [
       "<div>\n",
       "<style scoped>\n",
       "    .dataframe tbody tr th:only-of-type {\n",
       "        vertical-align: middle;\n",
       "    }\n",
       "\n",
       "    .dataframe tbody tr th {\n",
       "        vertical-align: top;\n",
       "    }\n",
       "\n",
       "    .dataframe thead th {\n",
       "        text-align: right;\n",
       "    }\n",
       "</style>\n",
       "<table border=\"1\" class=\"dataframe\">\n",
       "  <thead>\n",
       "    <tr style=\"text-align: right;\">\n",
       "      <th></th>\n",
       "      <th>input</th>\n",
       "      <th>output</th>\n",
       "      <th>instruction</th>\n",
       "    </tr>\n",
       "  </thead>\n",
       "  <tbody>\n",
       "    <tr>\n",
       "      <th>0</th>\n",
       "      <td>I have had Tourette syndrome since age seven. ...</td>\n",
       "      <td>What disorders are associated with TS?  Many i...</td>\n",
       "      <td>Answer the medical question.</td>\n",
       "    </tr>\n",
       "    <tr>\n",
       "      <th>1</th>\n",
       "      <td>I have undergone Total Hip Replacement of both...</td>\n",
       "      <td>When Is Revision Surgery Necessary?  Hip repla...</td>\n",
       "      <td>Answer the medical question.</td>\n",
       "    </tr>\n",
       "    <tr>\n",
       "      <th>2</th>\n",
       "      <td>atypical pnuemonia.  what is the possibility o...</td>\n",
       "      <td>Most patients with pneumonia due to mycoplasma...</td>\n",
       "      <td>Answer the medical question.</td>\n",
       "    </tr>\n",
       "    <tr>\n",
       "      <th>3</th>\n",
       "      <td>Dear Sir,  My mother is 80 years old. Her eye ...</td>\n",
       "      <td>If you have low vision, eyeglasses, contact le...</td>\n",
       "      <td>Answer the medical question.</td>\n",
       "    </tr>\n",
       "    <tr>\n",
       "      <th>4</th>\n",
       "      <td>I am a 75 year old man. I have 2 inguinal hern...</td>\n",
       "      <td>An inguinal hernia happens when contents of th...</td>\n",
       "      <td>Answer the medical question.</td>\n",
       "    </tr>\n",
       "  </tbody>\n",
       "</table>\n",
       "</div>"
      ],
      "text/plain": [
       "                                               input  \\\n",
       "0  I have had Tourette syndrome since age seven. ...   \n",
       "1  I have undergone Total Hip Replacement of both...   \n",
       "2  atypical pnuemonia.  what is the possibility o...   \n",
       "3  Dear Sir,  My mother is 80 years old. Her eye ...   \n",
       "4  I am a 75 year old man. I have 2 inguinal hern...   \n",
       "\n",
       "                                              output  \\\n",
       "0  What disorders are associated with TS?  Many i...   \n",
       "1  When Is Revision Surgery Necessary?  Hip repla...   \n",
       "2  Most patients with pneumonia due to mycoplasma...   \n",
       "3  If you have low vision, eyeglasses, contact le...   \n",
       "4  An inguinal hernia happens when contents of th...   \n",
       "\n",
       "                    instruction  \n",
       "0  Answer the medical question.  \n",
       "1  Answer the medical question.  \n",
       "2  Answer the medical question.  \n",
       "3  Answer the medical question.  \n",
       "4  Answer the medical question.  "
      ]
     },
     "execution_count": 17,
     "metadata": {},
     "output_type": "execute_result"
    }
   ],
   "source": [
    "final_df.head()"
   ]
  },
  {
   "cell_type": "code",
   "execution_count": 18,
   "id": "b6ba6e84",
   "metadata": {},
   "outputs": [
    {
     "name": "stdout",
     "output_type": "stream",
     "text": [
      "<class 'pandas.core.frame.DataFrame'>\n",
      "RangeIndex: 84497 entries, 0 to 84496\n",
      "Data columns (total 3 columns):\n",
      " #   Column       Non-Null Count  Dtype \n",
      "---  ------       --------------  ----- \n",
      " 0   input        84497 non-null  object\n",
      " 1   output       84497 non-null  object\n",
      " 2   instruction  84497 non-null  object\n",
      "dtypes: object(3)\n",
      "memory usage: 1.9+ MB\n"
     ]
    }
   ],
   "source": [
    "final_df.info()"
   ]
  },
  {
   "cell_type": "code",
   "execution_count": 31,
   "id": "f1f10050",
   "metadata": {},
   "outputs": [],
   "source": [
    "final_df.to_csv(\"final_dataset.csv\", index=False)"
   ]
  },
  {
   "cell_type": "code",
   "execution_count": null,
   "id": "27b4bf92",
   "metadata": {},
   "outputs": [],
   "source": []
  }
 ],
 "metadata": {
  "kernelspec": {
   "display_name": "mnist_env",
   "language": "python",
   "name": "python3"
  },
  "language_info": {
   "codemirror_mode": {
    "name": "ipython",
    "version": 3
   },
   "file_extension": ".py",
   "mimetype": "text/x-python",
   "name": "python",
   "nbconvert_exporter": "python",
   "pygments_lexer": "ipython3",
   "version": "3.8.20"
  }
 },
 "nbformat": 4,
 "nbformat_minor": 5
}
